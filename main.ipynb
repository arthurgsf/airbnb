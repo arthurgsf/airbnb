{
 "cells": [
  {
   "cell_type": "markdown",
   "metadata": {},
   "source": [
    "Data Source: Go to http://insideairbnb.com/get-the-data.html and search London, UK to get the data for 06 September, 2023.\n",
    "#####Important considerations:##### \n",
    "1. You are required to ask 10 questions from the dataset and answer them. \n",
    "2. Make sure 6-7 out of these 10 questions are quantifiable i.e there should be a definite numerical output of that question. Other 3-4 questions could be non-quantifiable questions (For eg: Answering how the price and reviews vary with respect to the type of accommodation, is a non quantifiable question.) \n",
    "3. Divide your code for each question into 2 parts: \n",
    "    1. The first part does any pre-processing that is required for that question. You are required to put all the pre-processing like data cleaning etc. in 1 block of code. The output of this block should be a clean dataset on which the final analysis would be done. \n",
    "    2. The second part of the code would use the cleaned data from step (a) and run the core analysis code. Put all the required analysis in 1 block of code. \n",
    "4. Your analysis will be graded based on \n",
    "    1. Business value of the finding\n",
    "    2. How non-obvious the questions and the insights are.\n",
    "    3. Correctness of the questions and answers. \n",
    "    4. Intermediate steps to demonstrate your thought process from questions to answers. \n",
    "5. Both positive as well as negative results are interesting to us if you can justify your hypothesis and insights. \n",
    "6. You are required to submit the solution as an ipython notebook to ivana.kruhoberec@turing.com."
   ]
  },
  {
   "cell_type": "code",
   "execution_count": 1,
   "metadata": {},
   "outputs": [
    {
     "name": "stderr",
     "output_type": "stream",
     "text": [
      "23/11/08 21:57:08 WARN Utils: Your hostname, pop-os resolves to a loopback address: 127.0.1.1; using 192.168.15.84 instead (on interface enp4s0)\n",
      "23/11/08 21:57:08 WARN Utils: Set SPARK_LOCAL_IP if you need to bind to another address\n",
      "Setting default log level to \"WARN\".\n",
      "To adjust logging level use sc.setLogLevel(newLevel). For SparkR, use setLogLevel(newLevel).\n",
      "23/11/08 21:57:08 WARN NativeCodeLoader: Unable to load native-hadoop library for your platform... using builtin-java classes where applicable\n"
     ]
    }
   ],
   "source": [
    "from pyspark.sql import SparkSession\n",
    "\n",
    "from pyspark.sql.functions import *\n",
    "\n",
    "from pyspark.sql.types import *\n",
    "\n",
    "# start spark session\n",
    "spark = (\n",
    "    SparkSession.builder\n",
    "    .master('local')\n",
    "    .appName('PySpark_01')\n",
    "    .getOrCreate()\n",
    "    )"
   ]
  },
  {
   "cell_type": "markdown",
   "metadata": {},
   "source": [
    "# Exploratory Analysis"
   ]
  },
  {
   "cell_type": "markdown",
   "metadata": {},
   "source": [
    "## Schema Overview :"
   ]
  },
  {
   "cell_type": "code",
   "execution_count": 2,
   "metadata": {},
   "outputs": [
    {
     "name": "stderr",
     "output_type": "stream",
     "text": [
      "[Stage 3:>                                                          (0 + 1) / 1]\r"
     ]
    },
    {
     "name": "stdout",
     "output_type": "stream",
     "text": [
      "root\n",
      " |-- id: long (nullable = true)\n",
      " |-- listing_url: string (nullable = true)\n",
      " |-- scrape_id: long (nullable = true)\n",
      " |-- last_scraped: date (nullable = true)\n",
      " |-- source: string (nullable = true)\n",
      " |-- name: string (nullable = true)\n",
      " |-- description: string (nullable = true)\n",
      " |-- neighborhood_overview: string (nullable = true)\n",
      " |-- picture_url: string (nullable = true)\n",
      " |-- host_id: integer (nullable = true)\n",
      " |-- host_url: string (nullable = true)\n",
      " |-- host_name: string (nullable = true)\n",
      " |-- host_since: date (nullable = true)\n",
      " |-- host_location: string (nullable = true)\n",
      " |-- host_about: string (nullable = true)\n",
      " |-- host_response_time: string (nullable = true)\n",
      " |-- host_response_rate: string (nullable = true)\n",
      " |-- host_acceptance_rate: string (nullable = true)\n",
      " |-- host_is_superhost: string (nullable = true)\n",
      " |-- host_thumbnail_url: string (nullable = true)\n",
      " |-- host_picture_url: string (nullable = true)\n",
      " |-- host_neighbourhood: string (nullable = true)\n",
      " |-- host_listings_count: integer (nullable = true)\n",
      " |-- host_total_listings_count: integer (nullable = true)\n",
      " |-- host_verifications: string (nullable = true)\n",
      " |-- host_has_profile_pic: string (nullable = true)\n",
      " |-- host_identity_verified: string (nullable = true)\n",
      " |-- neighbourhood: string (nullable = true)\n",
      " |-- neighbourhood_cleansed: string (nullable = true)\n",
      " |-- neighbourhood_group_cleansed: string (nullable = true)\n",
      " |-- latitude: double (nullable = true)\n",
      " |-- longitude: double (nullable = true)\n",
      " |-- property_type: string (nullable = true)\n",
      " |-- room_type: string (nullable = true)\n",
      " |-- accommodates: integer (nullable = true)\n",
      " |-- bathrooms: string (nullable = true)\n",
      " |-- bathrooms_text: string (nullable = true)\n",
      " |-- bedrooms: integer (nullable = true)\n",
      " |-- beds: integer (nullable = true)\n",
      " |-- amenities: string (nullable = true)\n",
      " |-- price: string (nullable = true)\n",
      " |-- minimum_nights: integer (nullable = true)\n",
      " |-- maximum_nights: integer (nullable = true)\n",
      " |-- minimum_minimum_nights: integer (nullable = true)\n",
      " |-- maximum_minimum_nights: integer (nullable = true)\n",
      " |-- minimum_maximum_nights: integer (nullable = true)\n",
      " |-- maximum_maximum_nights: integer (nullable = true)\n",
      " |-- minimum_nights_avg_ntm: double (nullable = true)\n",
      " |-- maximum_nights_avg_ntm: double (nullable = true)\n",
      " |-- calendar_updated: string (nullable = true)\n",
      " |-- has_availability: string (nullable = true)\n",
      " |-- availability_30: integer (nullable = true)\n",
      " |-- availability_60: integer (nullable = true)\n",
      " |-- availability_90: integer (nullable = true)\n",
      " |-- availability_365: integer (nullable = true)\n",
      " |-- calendar_last_scraped: date (nullable = true)\n",
      " |-- number_of_reviews: integer (nullable = true)\n",
      " |-- number_of_reviews_ltm: integer (nullable = true)\n",
      " |-- number_of_reviews_l30d: integer (nullable = true)\n",
      " |-- first_review: date (nullable = true)\n",
      " |-- last_review: date (nullable = true)\n",
      " |-- review_scores_rating: double (nullable = true)\n",
      " |-- review_scores_accuracy: double (nullable = true)\n",
      " |-- review_scores_cleanliness: double (nullable = true)\n",
      " |-- review_scores_checkin: double (nullable = true)\n",
      " |-- review_scores_communication: double (nullable = true)\n",
      " |-- review_scores_location: double (nullable = true)\n",
      " |-- review_scores_value: double (nullable = true)\n",
      " |-- license: string (nullable = true)\n",
      " |-- instant_bookable: string (nullable = true)\n",
      " |-- calculated_host_listings_count: integer (nullable = true)\n",
      " |-- calculated_host_listings_count_entire_homes: integer (nullable = true)\n",
      " |-- calculated_host_listings_count_private_rooms: integer (nullable = true)\n",
      " |-- calculated_host_listings_count_shared_rooms: integer (nullable = true)\n",
      " |-- reviews_per_month: double (nullable = true)\n",
      "\n",
      "root\n",
      " |-- listing_id: long (nullable = true)\n",
      " |-- id: long (nullable = true)\n",
      " |-- date: date (nullable = true)\n",
      " |-- reviewer_id: integer (nullable = true)\n",
      " |-- reviewer_name: string (nullable = true)\n",
      " |-- comments: string (nullable = true)\n",
      "\n"
     ]
    },
    {
     "name": "stderr",
     "output_type": "stream",
     "text": [
      "                                                                                \r"
     ]
    }
   ],
   "source": [
    "listings = spark.read.csv('data/listings-detailed.csv', header=True, inferSchema=True, multiLine=True, escape='\"')\n",
    "reviews = spark.read.csv('data/reviews-detailed.csv', header=True, inferSchema=True, multiLine=True, escape='\"')\n",
    "listings.printSchema()\n",
    "reviews.printSchema()"
   ]
  },
  {
   "cell_type": "code",
   "execution_count": 3,
   "metadata": {},
   "outputs": [
    {
     "name": "stderr",
     "output_type": "stream",
     "text": [
      "23/11/08 21:57:24 WARN GarbageCollectionMetrics: To enable non-built-in garbage collector(s) List(G1 Concurrent GC), users should configure it(them) to spark.eventLog.gcMetrics.youngGenerationGarbageCollectors or spark.eventLog.gcMetrics.oldGenerationGarbageCollectors\n"
     ]
    },
    {
     "name": "stdout",
     "output_type": "stream",
     "text": [
      "Listings Count:  87946\n",
      "Reviews Count:  1581033\n"
     ]
    },
    {
     "name": "stderr",
     "output_type": "stream",
     "text": [
      "                                                                                \r"
     ]
    }
   ],
   "source": [
    "listings_count = listings.count()\n",
    "reviews_count = reviews.count()\n",
    "print(f\"Listings Count: \", listings_count)\n",
    "print(f\"Reviews Count: \", reviews_count)"
   ]
  },
  {
   "cell_type": "markdown",
   "metadata": {},
   "source": [
    "# Questions"
   ]
  },
  {
   "cell_type": "markdown",
   "metadata": {},
   "source": [
    "## 1. How many distinct neighbourhoods are there?"
   ]
  },
  {
   "cell_type": "markdown",
   "metadata": {},
   "source": [
    "### Preprocessing"
   ]
  },
  {
   "cell_type": "code",
   "execution_count": 4,
   "metadata": {},
   "outputs": [],
   "source": [
    "df = listings.select(\"id\", \"neighbourhood_cleansed\")"
   ]
  },
  {
   "cell_type": "markdown",
   "metadata": {},
   "source": [
    "### Core analysis"
   ]
  },
  {
   "cell_type": "code",
   "execution_count": 5,
   "metadata": {},
   "outputs": [
    {
     "name": "stderr",
     "output_type": "stream",
     "text": [
      "                                                                                \r"
     ]
    },
    {
     "name": "stdout",
     "output_type": "stream",
     "text": [
      "There are 33 distinct neighbourhoods\n"
     ]
    },
    {
     "name": "stderr",
     "output_type": "stream",
     "text": [
      "                                                                                \r"
     ]
    },
    {
     "name": "stdout",
     "output_type": "stream",
     "text": [
      "+----------------------+\n",
      "|neighbourhood_cleansed|\n",
      "+----------------------+\n",
      "|Wandsworth            |\n",
      "|Croydon               |\n",
      "|Bexley                |\n",
      "|Lambeth               |\n",
      "|Barking and Dagenham  |\n",
      "|Camden                |\n",
      "|Greenwich             |\n",
      "|Newham                |\n",
      "|Tower Hamlets         |\n",
      "|Barnet                |\n",
      "|Hounslow              |\n",
      "|Harrow                |\n",
      "|Kensington and Chelsea|\n",
      "|Islington             |\n",
      "|Brent                 |\n",
      "|Haringey              |\n",
      "|Bromley               |\n",
      "|Merton                |\n",
      "|Westminster           |\n",
      "|Southwark             |\n",
      "+----------------------+\n",
      "only showing top 20 rows\n",
      "\n"
     ]
    }
   ],
   "source": [
    "distinct_nh = df.select(\"neighbourhood_cleansed\").distinct()\n",
    "print(f\"There are {distinct_nh.count()} distinct neighbourhoods\")\n",
    "distinct_nh.show(truncate=False)"
   ]
  },
  {
   "cell_type": "markdown",
   "metadata": {},
   "source": [
    "## 2. What is the average listing price (per neighbourhood) ?"
   ]
  },
  {
   "cell_type": "markdown",
   "metadata": {},
   "source": [
    "### Preprocessing"
   ]
  },
  {
   "cell_type": "code",
   "execution_count": 6,
   "metadata": {},
   "outputs": [],
   "source": [
    "df = listings.select(\"id\", \"neighbourhood_cleansed\", \"price\")\n",
    "\n",
    "# cast price to float\n",
    "get_price = udf(lambda x: float(x.replace(\"$\", \"\").replace(\",\", \"\")))\n",
    "df = df.withColumn(\"price\", get_price(\"price\").cast(FloatType()))"
   ]
  },
  {
   "cell_type": "markdown",
   "metadata": {},
   "source": [
    "### Core analysis"
   ]
  },
  {
   "cell_type": "code",
   "execution_count": 7,
   "metadata": {},
   "outputs": [
    {
     "name": "stderr",
     "output_type": "stream",
     "text": [
      "[Stage 19:>                                                         (0 + 1) / 1]\r"
     ]
    },
    {
     "name": "stdout",
     "output_type": "stream",
     "text": [
      "+----------------------+------------------+\n",
      "|neighbourhood_cleansed|avg(price)        |\n",
      "+----------------------+------------------+\n",
      "|Westminster           |320.59137309847875|\n",
      "|Kensington and Chelsea|307.43279477483674|\n",
      "|Barking and Dagenham  |245.8404255319149 |\n",
      "|City of London        |243.72201492537314|\n",
      "|Camden                |203.2881709223554 |\n",
      "|Hounslow              |182.45570630486833|\n",
      "|Southwark             |180.60518444666002|\n",
      "|Brent                 |179.07919708029198|\n",
      "|Hammersmith and Fulham|177.2308300395257 |\n",
      "|Islington             |173.16919786096256|\n",
      "|Wandsworth            |167.57320660782983|\n",
      "|Richmond upon Thames  |163.40254574383454|\n",
      "|Barnet                |160.5233437083148 |\n",
      "|Merton                |153.22092222986925|\n",
      "|Newham                |151.51016875811337|\n",
      "|Haringey              |149.82787573467675|\n",
      "|Lambeth               |141.03875157100964|\n",
      "|Kingston upon Thames  |134.80400572246066|\n",
      "|Tower Hamlets         |133.06963276836157|\n",
      "|Hackney               |132.93222258168876|\n",
      "+----------------------+------------------+\n",
      "only showing top 20 rows\n",
      "\n"
     ]
    },
    {
     "name": "stderr",
     "output_type": "stream",
     "text": [
      "                                                                                \r"
     ]
    }
   ],
   "source": [
    "grouped = df.groupBy(\"neighbourhood_cleansed\").agg(mean('price'))\n",
    "grouped = grouped.sort(col(\"avg(price)\").desc())\n",
    "grouped.show(truncate=False)"
   ]
  },
  {
   "cell_type": "markdown",
   "metadata": {},
   "source": [
    "## 3. What is the average minimum stay (per neighbourhood) ?"
   ]
  },
  {
   "cell_type": "markdown",
   "metadata": {},
   "source": [
    "### Preprocessing"
   ]
  },
  {
   "cell_type": "code",
   "execution_count": 8,
   "metadata": {},
   "outputs": [],
   "source": [
    "df = listings.select(\"id\", \"neighbourhood_cleansed\", \"minimum_nights\")"
   ]
  },
  {
   "cell_type": "markdown",
   "metadata": {},
   "source": [
    "### Core Analysis"
   ]
  },
  {
   "cell_type": "code",
   "execution_count": 9,
   "metadata": {},
   "outputs": [
    {
     "name": "stderr",
     "output_type": "stream",
     "text": [
      "[Stage 22:>                                                         (0 + 1) / 1]\r"
     ]
    },
    {
     "name": "stdout",
     "output_type": "stream",
     "text": [
      "+----------------------+------------+\n",
      "|neighbourhood_cleansed|avg_min_stay|\n",
      "+----------------------+------------+\n",
      "|Kensington and Chelsea|8           |\n",
      "|Greenwich             |7           |\n",
      "|Tower Hamlets         |7           |\n",
      "|Barking and Dagenham  |6           |\n",
      "|Camden                |6           |\n",
      "|Harrow                |6           |\n",
      "|Westminster           |6           |\n",
      "|Richmond upon Thames  |6           |\n",
      "|Wandsworth            |5           |\n",
      "|Croydon               |5           |\n",
      "|Bexley                |5           |\n",
      "|Lambeth               |5           |\n",
      "|Newham                |5           |\n",
      "|Barnet                |5           |\n",
      "|Islington             |5           |\n",
      "|Brent                 |5           |\n",
      "|Haringey              |5           |\n",
      "|Southwark             |5           |\n",
      "|Hackney               |5           |\n",
      "|Ealing                |5           |\n",
      "+----------------------+------------+\n",
      "only showing top 20 rows\n",
      "\n"
     ]
    },
    {
     "name": "stderr",
     "output_type": "stream",
     "text": [
      "                                                                                \r"
     ]
    }
   ],
   "source": [
    "grouped = df.groupBy(\"neighbourhood_cleansed\").agg(round(mean('minimum_nights')).cast(IntegerType()).alias(\"avg_min_stay\"))\n",
    "grouped = grouped.sort(col(\"avg_min_stay\").desc())\n",
    "grouped.show(truncate=False)"
   ]
  },
  {
   "cell_type": "markdown",
   "metadata": {},
   "source": [
    "## 4. How many listings for each type of rooms are there ?"
   ]
  },
  {
   "cell_type": "markdown",
   "metadata": {},
   "source": [
    "### Preprocessing"
   ]
  },
  {
   "cell_type": "code",
   "execution_count": 10,
   "metadata": {},
   "outputs": [],
   "source": [
    "room_types = listings.select(\"id\", \"room_type\")"
   ]
  },
  {
   "cell_type": "markdown",
   "metadata": {},
   "source": [
    "### Core analysis"
   ]
  },
  {
   "cell_type": "code",
   "execution_count": 11,
   "metadata": {},
   "outputs": [
    {
     "name": "stderr",
     "output_type": "stream",
     "text": [
      "[Stage 25:>                                                         (0 + 1) / 1]\r"
     ]
    },
    {
     "name": "stdout",
     "output_type": "stream",
     "text": [
      "+---------------+-----+\n",
      "|      room_type|count|\n",
      "+---------------+-----+\n",
      "|    Shared room|  441|\n",
      "|     Hotel room|  219|\n",
      "|Entire home/apt|54575|\n",
      "|   Private room|32711|\n",
      "+---------------+-----+\n",
      "\n"
     ]
    },
    {
     "name": "stderr",
     "output_type": "stream",
     "text": [
      "                                                                                \r"
     ]
    }
   ],
   "source": [
    "room_types.groupBy(\"room_type\").agg(count(\"room_type\").alias(\"count\")).show()"
   ]
  },
  {
   "cell_type": "markdown",
   "metadata": {},
   "source": []
  },
  {
   "cell_type": "markdown",
   "metadata": {},
   "source": [
    "## 5. What is the average minimum monthly income per type of room ?\n",
    "Used number of reviews per month to estimate average monthly income per type of room"
   ]
  },
  {
   "cell_type": "markdown",
   "metadata": {},
   "source": [
    "### Preprocessing"
   ]
  },
  {
   "cell_type": "code",
   "execution_count": 12,
   "metadata": {},
   "outputs": [],
   "source": [
    "listings_df = listings.select(\"id\", \"room_type\", \"price\", \"minimum_nights\")\n",
    "# cast price to float\n",
    "get_price = udf(lambda x: float(x.replace(\"$\", \"\").replace(\",\", \"\")))\n",
    "listings_df = listings_df.withColumn(\"price\", get_price(\"price\").cast(FloatType()))\n",
    "\n",
    "reviews_df = reviews.select(\"listing_id\", \"date\")\n",
    "reviews_df = reviews_df.withColumn(\"year\", year(\"date\"))\n",
    "reviews_df = reviews_df.withColumn(\"month\", month(\"date\"))"
   ]
  },
  {
   "cell_type": "markdown",
   "metadata": {},
   "source": [
    "### Core analysis"
   ]
  },
  {
   "cell_type": "code",
   "execution_count": 13,
   "metadata": {},
   "outputs": [],
   "source": [
    "reviews_count = reviews_df.groupBy(\"listing_id\", \"year\", \"month\").agg(count(\"month\").alias(\"count\"))\n",
    "\n",
    "# join reviews_count with listings\n",
    "joined = listings_df.join(reviews_count, listings_df['id'] == reviews_count['listing_id'])\n",
    "joined = joined.withColumn(\"income\", col(\"price\") * col(\"minimum_nights\") * col(\"count\"))\n",
    "\n",
    "output = joined.groupBy(\"room_type\").agg(mean(\"income\"))"
   ]
  },
  {
   "cell_type": "markdown",
   "metadata": {},
   "source": [
    "## 6. What is the average minimum monthly income per neighbourhood ?\n",
    "Used number of reviews per month to estimate average monthly income per neighbourhood"
   ]
  },
  {
   "cell_type": "markdown",
   "metadata": {},
   "source": [
    "### Preprocessing"
   ]
  },
  {
   "cell_type": "code",
   "execution_count": 14,
   "metadata": {},
   "outputs": [],
   "source": [
    "listings_df = listings.select(\"id\", \"neighbourhood_cleansed\", \"price\", \"minimum_nights\")\n",
    "# cast price to float\n",
    "get_price = udf(lambda x: float(x.replace(\"$\", \"\").replace(\",\", \"\")))\n",
    "listings_df = listings_df.withColumn(\"price\", get_price(\"price\").cast(FloatType()))\n",
    "\n",
    "reviews_df = reviews.select(\"listing_id\", \"date\")\n",
    "reviews_df = reviews_df.withColumn(\"year\", year(\"date\"))\n",
    "reviews_df = reviews_df.withColumn(\"month\", month(\"date\"))"
   ]
  },
  {
   "cell_type": "markdown",
   "metadata": {},
   "source": [
    "### Core analysis"
   ]
  },
  {
   "cell_type": "code",
   "execution_count": 15,
   "metadata": {},
   "outputs": [
    {
     "name": "stderr",
     "output_type": "stream",
     "text": [
      "[Stage 31:>                                                         (0 + 1) / 1]\r"
     ]
    },
    {
     "name": "stdout",
     "output_type": "stream",
     "text": [
      "+----------------------+------------------+\n",
      "|neighbourhood_cleansed|avg_income        |\n",
      "+----------------------+------------------+\n",
      "|Haringey              |4449.199930839721 |\n",
      "|Tower Hamlets         |3987.895461054729 |\n",
      "|City of London        |2973.5594537815127|\n",
      "|Kensington and Chelsea|2638.23090876111  |\n",
      "|Westminster           |2193.1321252898365|\n",
      "|Camden                |1901.4151713992605|\n",
      "|Richmond upon Thames  |1851.3892176732875|\n",
      "|Islington             |1743.6111081555568|\n",
      "|Brent                 |1563.6519673268913|\n",
      "|Hackney               |1457.3300889940294|\n",
      "|Hammersmith and Fulham|1421.567107875579 |\n",
      "|Southwark             |1289.194051026758 |\n",
      "|Barking and Dagenham  |1222.826417967263 |\n",
      "|Havering              |1211.5052631578947|\n",
      "|Greenwich             |1202.5114285714285|\n",
      "|Newham                |1129.5178279126042|\n",
      "|Lambeth               |1052.8567109436956|\n",
      "|Wandsworth            |973.7577339396656 |\n",
      "|Bexley                |953.9405548216645 |\n",
      "|Barnet                |879.8700721355477 |\n",
      "+----------------------+------------------+\n",
      "only showing top 20 rows\n",
      "\n"
     ]
    },
    {
     "name": "stderr",
     "output_type": "stream",
     "text": [
      "                                                                                \r"
     ]
    }
   ],
   "source": [
    "reviews_count = reviews_df.groupBy(\"listing_id\", \"year\", \"month\").agg(count(\"month\").alias(\"count\"))\n",
    "\n",
    "# join reviews_count with listings\n",
    "joined = listings_df.join(reviews_count, listings_df['id'] == reviews_count['listing_id'])\n",
    "joined = joined.withColumn(\"income\", col(\"price\") * col(\"minimum_nights\") * col(\"count\"))\n",
    "\n",
    "output = joined.groupBy(\"neighbourhood_cleansed\").agg(mean(\"income\").alias(\"avg_income\"))\n",
    "output = output.orderBy(col(\"avg_income\").desc())\n",
    "output.show(truncate=False)"
   ]
  },
  {
   "cell_type": "markdown",
   "metadata": {},
   "source": [
    "## 7. Who are the best rated hosts ?"
   ]
  },
  {
   "cell_type": "markdown",
   "metadata": {},
   "source": [
    "### Preprocessing"
   ]
  },
  {
   "cell_type": "code",
   "execution_count": 16,
   "metadata": {},
   "outputs": [],
   "source": [
    "df = listings.select(\"host_id\", \"host_name\", \"review_scores_rating\")\n",
    "df = df.fillna(0)"
   ]
  },
  {
   "cell_type": "markdown",
   "metadata": {},
   "source": [
    "### Core analysis"
   ]
  },
  {
   "cell_type": "code",
   "execution_count": 17,
   "metadata": {},
   "outputs": [
    {
     "name": "stderr",
     "output_type": "stream",
     "text": [
      "[Stage 38:>                                                         (0 + 1) / 1]\r"
     ]
    },
    {
     "name": "stdout",
     "output_type": "stream",
     "text": [
      "+-----------------+----------+\n",
      "|        host_name|avg_rating|\n",
      "+-----------------+----------+\n",
      "|           5 Star|       5.0|\n",
      "| 5 The Appartment|       5.0|\n",
      "|56 Welbeck Street|       5.0|\n",
      "|                A|       5.0|\n",
      "|                A|       5.0|\n",
      "|               A.|       5.0|\n",
      "|              A.J|       5.0|\n",
      "|             ALex|       5.0|\n",
      "|            Aadil|       5.0|\n",
      "|            Aadil|       5.0|\n",
      "|        Aakanksha|       5.0|\n",
      "|        Aakanksha|       5.0|\n",
      "|          Aaliyah|       5.0|\n",
      "|             Aapo|       5.0|\n",
      "|            Aarav|       5.0|\n",
      "|            Aarav|       5.0|\n",
      "|            Aaron|       5.0|\n",
      "|            Aaron|       5.0|\n",
      "|            Aaron|       5.0|\n",
      "|            Aaron|       5.0|\n",
      "+-----------------+----------+\n",
      "only showing top 20 rows\n",
      "\n"
     ]
    },
    {
     "name": "stderr",
     "output_type": "stream",
     "text": [
      "                                                                                \r"
     ]
    }
   ],
   "source": [
    "avg_ratings = df.groupBy(\"host_id\").agg(mean(\"review_scores_rating\").alias(\"avg_rating\"))\n",
    "output = df.join(avg_ratings, df[\"host_id\"] == avg_ratings['host_id']).select(\"host_name\", \"avg_rating\").orderBy(col(\"avg_rating\").desc(), \"host_name\")\n",
    "output.show()"
   ]
  },
  {
   "cell_type": "markdown",
   "metadata": {},
   "source": [
    "## 8. Does being a super host affects ratings?"
   ]
  },
  {
   "cell_type": "markdown",
   "metadata": {},
   "source": [
    "### Preprocessing"
   ]
  },
  {
   "cell_type": "code",
   "execution_count": 18,
   "metadata": {},
   "outputs": [],
   "source": [
    "df = listings.select(\"host_id\", \"host_name\", \"review_scores_rating\", \"host_is_superhost\").dropna()\n",
    "\n"
   ]
  },
  {
   "cell_type": "markdown",
   "metadata": {},
   "source": [
    "### Core analysis"
   ]
  },
  {
   "cell_type": "code",
   "execution_count": 19,
   "metadata": {},
   "outputs": [
    {
     "name": "stderr",
     "output_type": "stream",
     "text": [
      "[Stage 39:>                                                         (0 + 1) / 1]\r"
     ]
    },
    {
     "name": "stdout",
     "output_type": "stream",
     "text": [
      "+-----------------+-----------------+-------------------+\n",
      "|host_is_superhost|       avg_rating|                std|\n",
      "+-----------------+-----------------+-------------------+\n",
      "|                f|4.534971122346671| 0.8182240058825446|\n",
      "|                t| 4.85830605564648|0.21157671281516274|\n",
      "+-----------------+-----------------+-------------------+\n",
      "\n"
     ]
    },
    {
     "name": "stderr",
     "output_type": "stream",
     "text": [
      "                                                                                \r"
     ]
    }
   ],
   "source": [
    "df.groupBy(\"host_is_superhost\").agg(mean(\"review_scores_rating\").alias(\"avg_rating\"),std(\"review_scores_rating\").alias(\"std\")).show()"
   ]
  },
  {
   "cell_type": "markdown",
   "metadata": {},
   "source": [
    "Answer : There is evidence that being a superhost impacts on the ratings"
   ]
  },
  {
   "cell_type": "markdown",
   "metadata": {},
   "source": [
    "## 9. Does being a super host affects monthly income?"
   ]
  },
  {
   "cell_type": "markdown",
   "metadata": {},
   "source": [
    "### Preprocessing"
   ]
  },
  {
   "cell_type": "code",
   "execution_count": 20,
   "metadata": {},
   "outputs": [],
   "source": [
    "listings_df = listings.select(\"id\", \"host_is_superhost\", \"price\", \"minimum_nights\").dropna()\n",
    "# cast price to float\n",
    "get_price = udf(lambda x: float(x.replace(\"$\", \"\").replace(\",\", \"\")))\n",
    "listings_df = listings_df.withColumn(\"price\", get_price(\"price\").cast(FloatType()))\n",
    "\n",
    "reviews_df = reviews.select(\"listing_id\", \"date\")\n",
    "reviews_df = reviews_df.withColumn(\"year\", year(\"date\"))\n",
    "reviews_df = reviews_df.withColumn(\"month\", month(\"date\"))"
   ]
  },
  {
   "cell_type": "markdown",
   "metadata": {},
   "source": [
    "### Core analysis"
   ]
  },
  {
   "cell_type": "code",
   "execution_count": 21,
   "metadata": {},
   "outputs": [
    {
     "name": "stderr",
     "output_type": "stream",
     "text": [
      "                                                                                \r"
     ]
    },
    {
     "name": "stdout",
     "output_type": "stream",
     "text": [
      "+-----------------+------------------+-----------------+\n",
      "|host_is_superhost|avg_income        |std              |\n",
      "+-----------------+------------------+-----------------+\n",
      "|f                |1908.7607457790778|66911.17855052992|\n",
      "|t                |1400.2666391710059|5325.1437143836  |\n",
      "+-----------------+------------------+-----------------+\n",
      "\n"
     ]
    }
   ],
   "source": [
    "# join review_counts by listing\n",
    "reviews_count = reviews_df.groupBy(\"listing_id\", \"year\", \"month\").agg(count(\"month\").alias(\"count\"))\n",
    "\n",
    "# join reviews_count with listings\n",
    "joined = listings_df.join(reviews_count, listings_df['id'] == reviews_count['listing_id'])\n",
    "joined = joined.withColumn(\"income\", col(\"price\") * col(\"minimum_nights\") * col(\"count\")).filter(col(\"income\") != 0)\n",
    "\n",
    "output = joined.groupBy(\"host_is_superhost\").agg(mean(\"income\").alias(\"avg_income\"), std(\"income\").alias(\"std\"))\n",
    "output = output.orderBy(col(\"avg_income\").desc())\n",
    "output.show(truncate=False)"
   ]
  },
  {
   "cell_type": "markdown",
   "metadata": {},
   "source": [
    "Answer: Inconclusive analysis, the standard deviation is too high to afirm anything."
   ]
  },
  {
   "cell_type": "markdown",
   "metadata": {},
   "source": [
    "## 10. What are the best rated neighbourhoods ? "
   ]
  },
  {
   "cell_type": "markdown",
   "metadata": {},
   "source": [
    "### Preprocessing"
   ]
  },
  {
   "cell_type": "code",
   "execution_count": 22,
   "metadata": {},
   "outputs": [],
   "source": [
    "df = listings.select(\"id\", \"neighbourhood_cleansed\", \"review_scores_rating\").dropna()"
   ]
  },
  {
   "cell_type": "markdown",
   "metadata": {},
   "source": [
    "### Core analysis"
   ]
  },
  {
   "cell_type": "code",
   "execution_count": 23,
   "metadata": {},
   "outputs": [
    {
     "name": "stderr",
     "output_type": "stream",
     "text": [
      "[Stage 49:>                                                         (0 + 1) / 1]\r"
     ]
    },
    {
     "name": "stdout",
     "output_type": "stream",
     "text": [
      "+----------------------+------------------+------------------+\n",
      "|neighbourhood_cleansed|        avg_rating|               std|\n",
      "+----------------------+------------------+------------------+\n",
      "|  Kingston upon Thames| 4.737269303201508|0.6098647243905227|\n",
      "|  Richmond upon Thames| 4.706460732984299|0.7499652244051536|\n",
      "|               Bromley| 4.685929054054057| 0.660433494796809|\n",
      "|        Waltham Forest| 4.678620414673047|0.6592823696042672|\n",
      "|               Hackney| 4.674173064951204|0.7113163417768752|\n",
      "|                Merton|4.6691809523809535|0.7351294741568429|\n",
      "|              Havering| 4.668877192982454|0.6434776791759963|\n",
      "|                Sutton| 4.665501730103805|0.6286619174251032|\n",
      "|            Wandsworth|4.6621602892437375|0.7921210511736919|\n",
      "|               Lambeth| 4.654759473259864|0.7298239236997204|\n",
      "|              Haringey|  4.64158426966292|0.7423362738955056|\n",
      "|             Southwark| 4.627599586135534|0.6965096356018664|\n",
      "|              Lewisham|4.6226882263769555|0.8050307251720384|\n",
      "|                Bexley|  4.60940828402367|0.7547221896508342|\n",
      "|                Ealing|  4.60796354494029|0.7434584328915026|\n",
      "|  Hammersmith and F...| 4.606060711793436|0.7300912050500963|\n",
      "|               Enfield| 4.605824742268044|0.8009251901905539|\n",
      "|                Barnet| 4.602639161755085|0.7705102325507125|\n",
      "|             Islington| 4.594712230215819|0.7981389317781646|\n",
      "|             Greenwich| 4.594298801973217|0.7699787411697078|\n",
      "+----------------------+------------------+------------------+\n",
      "only showing top 20 rows\n",
      "\n"
     ]
    },
    {
     "name": "stderr",
     "output_type": "stream",
     "text": [
      "                                                                                \r"
     ]
    }
   ],
   "source": [
    "output = df.groupBy(\"neighbourhood_cleansed\").agg(mean(\"review_scores_rating\").alias(\"avg_rating\"), std(\"review_scores_rating\").alias(\"std\"))\n",
    "output.orderBy(col(\"avg_rating\").desc()).show()"
   ]
  }
 ],
 "metadata": {
  "kernelspec": {
   "display_name": "spark",
   "language": "python",
   "name": "python3"
  },
  "language_info": {
   "codemirror_mode": {
    "name": "ipython",
    "version": 3
   },
   "file_extension": ".py",
   "mimetype": "text/x-python",
   "name": "python",
   "nbconvert_exporter": "python",
   "pygments_lexer": "ipython3",
   "version": "3.12.0"
  }
 },
 "nbformat": 4,
 "nbformat_minor": 2
}
